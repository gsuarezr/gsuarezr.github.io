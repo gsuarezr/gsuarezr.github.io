{
 "cells": [
  {
   "cell_type": "raw",
   "id": "981f5158",
   "metadata": {},
   "source": [
    "---\n",
    "title: Generating Beautiful Visualizations of Complex Roots with Jax\n",
    "description: This is an example blog post showing Markdown capabilities\n",
    "date: 2024-03-14\n",
    "---"
   ]
  },
  {
   "cell_type": "markdown",
   "id": "cf2c24ff",
   "metadata": {},
   "source": [
    "### Roots of Parametric Polynomials\n",
    "\n",
    "On of my recent endless scrolls to social media, I encountered beautiful \n",
    "animations from Professor Simone Conradi, showing the roots of parametric \n",
    "polynomials in the complex plane. Inspired by their beauty and giving myself an\n",
    "excuse to use jax. I decided to make my on animation "
   ]
  },
  {
   "cell_type": "code",
   "execution_count": 1,
   "id": "cfda9f70",
   "metadata": {},
   "outputs": [],
   "source": [
    "import jax\n",
    "import jax.numpy as jnp\n",
    "import os\n",
    "os.environ[\"XLA_PYTHON_CLIENT_PREALLOCATE\"] = \"false\""
   ]
  },
  {
   "cell_type": "markdown",
   "id": "a891fd2c",
   "metadata": {},
   "source": [
    "Consider the parametric polynomial\n",
    "\n",
    "$f(x)= |t|x^{14}  +(t^{5}+i t^{2}+t+5) x^{10} + (t^{2}+1) x^{5} + 2 $"
   ]
  },
  {
   "cell_type": "code",
   "execution_count": 3,
   "id": "cbcd690b",
   "metadata": {},
   "outputs": [
    {
     "name": "stderr",
     "output_type": "stream",
     "text": [
      "2025-04-27 23:19:31.318343: W external/xla/xla/service/platform_util.cc:220] unable to create StreamExecutor for CUDA:0: CUDA error: : CUDA_ERROR_UNKNOWN: unknown error\n"
     ]
    },
    {
     "ename": "RuntimeError",
     "evalue": "Unable to initialize backend 'cuda': INTERNAL: no supported devices found for platform CUDA (you may need to uninstall the failing plugin package, or set JAX_PLATFORMS=cpu to skip this backend.)",
     "output_type": "error",
     "traceback": [
      "\u001b[31m---------------------------------------------------------------------------\u001b[39m",
      "\u001b[31mXlaRuntimeError\u001b[39m                           Traceback (most recent call last)",
      "    \u001b[31m[... skipping hidden 1 frame]\u001b[39m\n",
      "\u001b[36mFile \u001b[39m\u001b[32m~/.pyenv/versions/3.12.0/envs/qutip-tutorials/lib/python3.12/site-packages/jax/_src/xla_bridge.py:943\u001b[39m, in \u001b[36m_init_backend\u001b[39m\u001b[34m(platform)\u001b[39m\n\u001b[32m    942\u001b[39m logger.debug(\u001b[33m\"\u001b[39m\u001b[33mInitializing backend \u001b[39m\u001b[33m'\u001b[39m\u001b[38;5;132;01m%s\u001b[39;00m\u001b[33m'\u001b[39m\u001b[33m\"\u001b[39m, platform)\n\u001b[32m--> \u001b[39m\u001b[32m943\u001b[39m backend = \u001b[43mregistration\u001b[49m\u001b[43m.\u001b[49m\u001b[43mfactory\u001b[49m\u001b[43m(\u001b[49m\u001b[43m)\u001b[49m\n\u001b[32m    944\u001b[39m \u001b[38;5;66;03m# TODO(skye): consider raising more descriptive errors directly from backend\u001b[39;00m\n\u001b[32m    945\u001b[39m \u001b[38;5;66;03m# factories instead of returning None.\u001b[39;00m\n",
      "\u001b[36mFile \u001b[39m\u001b[32m~/.pyenv/versions/3.12.0/envs/qutip-tutorials/lib/python3.12/site-packages/jax/_src/xla_bridge.py:633\u001b[39m, in \u001b[36mregister_plugin.<locals>.factory\u001b[39m\u001b[34m()\u001b[39m\n\u001b[32m    632\u001b[39m \u001b[38;5;28;01mif\u001b[39;00m distributed.global_state.client \u001b[38;5;129;01mis\u001b[39;00m \u001b[38;5;28;01mNone\u001b[39;00m:\n\u001b[32m--> \u001b[39m\u001b[32m633\u001b[39m   \u001b[38;5;28;01mreturn\u001b[39;00m \u001b[43mxla_client\u001b[49m\u001b[43m.\u001b[49m\u001b[43mmake_c_api_client\u001b[49m\u001b[43m(\u001b[49m\u001b[43mplugin_name\u001b[49m\u001b[43m,\u001b[49m\u001b[43m \u001b[49m\u001b[43mupdated_options\u001b[49m\u001b[43m,\u001b[49m\u001b[43m \u001b[49m\u001b[38;5;28;43;01mNone\u001b[39;49;00m\u001b[43m)\u001b[49m\n\u001b[32m    635\u001b[39m distribute_options = {\n\u001b[32m    636\u001b[39m     \u001b[33m'\u001b[39m\u001b[33mnode_id\u001b[39m\u001b[33m'\u001b[39m: distributed.global_state.process_id,\n\u001b[32m    637\u001b[39m     \u001b[33m'\u001b[39m\u001b[33mnum_nodes\u001b[39m\u001b[33m'\u001b[39m: distributed.global_state.num_processes,\n\u001b[32m    638\u001b[39m }\n",
      "\u001b[36mFile \u001b[39m\u001b[32m~/.pyenv/versions/3.12.0/envs/qutip-tutorials/lib/python3.12/site-packages/jaxlib/xla_client.py:159\u001b[39m, in \u001b[36mmake_c_api_client\u001b[39m\u001b[34m(plugin_name, options, distributed_client)\u001b[39m\n\u001b[32m    158\u001b[39m   options = {}\n\u001b[32m--> \u001b[39m\u001b[32m159\u001b[39m \u001b[38;5;28;01mreturn\u001b[39;00m \u001b[43m_xla\u001b[49m\u001b[43m.\u001b[49m\u001b[43mget_c_api_client\u001b[49m\u001b[43m(\u001b[49m\u001b[43mplugin_name\u001b[49m\u001b[43m,\u001b[49m\u001b[43m \u001b[49m\u001b[43moptions\u001b[49m\u001b[43m,\u001b[49m\u001b[43m \u001b[49m\u001b[43mdistributed_client\u001b[49m\u001b[43m)\u001b[49m\n",
      "\u001b[31mXlaRuntimeError\u001b[39m: INTERNAL: no supported devices found for platform CUDA",
      "\nDuring handling of the above exception, another exception occurred:\n",
      "\u001b[31mRuntimeError\u001b[39m                              Traceback (most recent call last)",
      "\u001b[36mCell\u001b[39m\u001b[36m \u001b[39m\u001b[32mIn[3]\u001b[39m\u001b[32m, line 2\u001b[39m\n\u001b[32m      1\u001b[39m \u001b[38;5;28;01mfrom\u001b[39;00m\u001b[38;5;250m \u001b[39m\u001b[34;01mjax\u001b[39;00m\u001b[38;5;250m \u001b[39m\u001b[38;5;28;01mimport\u001b[39;00m random\n\u001b[32m----> \u001b[39m\u001b[32m2\u001b[39m key = \u001b[43mrandom\u001b[49m\u001b[43m.\u001b[49m\u001b[43mkey\u001b[49m\u001b[43m(\u001b[49m\u001b[32;43m42\u001b[39;49m\u001b[43m)\u001b[49m\n\u001b[32m      3\u001b[39m key2 = random.key(\u001b[32m84\u001b[39m)\n",
      "\u001b[36mFile \u001b[39m\u001b[32m~/.pyenv/versions/3.12.0/envs/qutip-tutorials/lib/python3.12/site-packages/jax/_src/random.py:220\u001b[39m, in \u001b[36mkey\u001b[39m\u001b[34m(seed, impl)\u001b[39m\n\u001b[32m    202\u001b[39m \u001b[38;5;28;01mdef\u001b[39;00m\u001b[38;5;250m \u001b[39m\u001b[34mkey\u001b[39m(seed: \u001b[38;5;28mint\u001b[39m | ArrayLike, *,\n\u001b[32m    203\u001b[39m         impl: PRNGSpecDesc | \u001b[38;5;28;01mNone\u001b[39;00m = \u001b[38;5;28;01mNone\u001b[39;00m) -> Array:\n\u001b[32m    204\u001b[39m \u001b[38;5;250m  \u001b[39m\u001b[33;03m\"\"\"Create a pseudo-random number generator (PRNG) key given an integer seed.\u001b[39;00m\n\u001b[32m    205\u001b[39m \n\u001b[32m    206\u001b[39m \u001b[33;03m  The result is a scalar array containing a key, whose dtype indicates\u001b[39;00m\n\u001b[32m   (...)\u001b[39m\u001b[32m    218\u001b[39m \u001b[33;03m    and ``fold_in``.\u001b[39;00m\n\u001b[32m    219\u001b[39m \u001b[33;03m  \"\"\"\u001b[39;00m\n\u001b[32m--> \u001b[39m\u001b[32m220\u001b[39m   \u001b[38;5;28;01mreturn\u001b[39;00m \u001b[43m_key\u001b[49m\u001b[43m(\u001b[49m\u001b[33;43m'\u001b[39;49m\u001b[33;43mkey\u001b[39;49m\u001b[33;43m'\u001b[39;49m\u001b[43m,\u001b[49m\u001b[43m \u001b[49m\u001b[43mseed\u001b[49m\u001b[43m,\u001b[49m\u001b[43m \u001b[49m\u001b[43mimpl\u001b[49m\u001b[43m)\u001b[49m\n",
      "\u001b[36mFile \u001b[39m\u001b[32m~/.pyenv/versions/3.12.0/envs/qutip-tutorials/lib/python3.12/site-packages/jax/_src/random.py:200\u001b[39m, in \u001b[36m_key\u001b[39m\u001b[34m(ctor_name, seed, impl_spec)\u001b[39m\n\u001b[32m    196\u001b[39m \u001b[38;5;28;01mif\u001b[39;00m np.ndim(seed):\n\u001b[32m    197\u001b[39m   \u001b[38;5;28;01mraise\u001b[39;00m \u001b[38;5;167;01mTypeError\u001b[39;00m(\n\u001b[32m    198\u001b[39m       \u001b[33mf\u001b[39m\u001b[33m\"\u001b[39m\u001b[38;5;132;01m{\u001b[39;00mctor_name\u001b[38;5;132;01m}\u001b[39;00m\u001b[33m accepts a scalar seed, but was given an array of \u001b[39m\u001b[33m\"\u001b[39m\n\u001b[32m    199\u001b[39m       \u001b[33mf\u001b[39m\u001b[33m\"\u001b[39m\u001b[33mshape \u001b[39m\u001b[38;5;132;01m{\u001b[39;00mnp.shape(seed)\u001b[38;5;132;01m}\u001b[39;00m\u001b[33m != (). Use jax.vmap for batching\u001b[39m\u001b[33m\"\u001b[39m)\n\u001b[32m--> \u001b[39m\u001b[32m200\u001b[39m \u001b[38;5;28;01mreturn\u001b[39;00m \u001b[43mprng\u001b[49m\u001b[43m.\u001b[49m\u001b[43mrandom_seed\u001b[49m\u001b[43m(\u001b[49m\u001b[43mseed\u001b[49m\u001b[43m,\u001b[49m\u001b[43m \u001b[49m\u001b[43mimpl\u001b[49m\u001b[43m=\u001b[49m\u001b[43mimpl\u001b[49m\u001b[43m)\u001b[49m\n",
      "\u001b[36mFile \u001b[39m\u001b[32m~/.pyenv/versions/3.12.0/envs/qutip-tutorials/lib/python3.12/site-packages/jax/_src/prng.py:548\u001b[39m, in \u001b[36mrandom_seed\u001b[39m\u001b[34m(seeds, impl)\u001b[39m\n\u001b[32m    543\u001b[39m \u001b[38;5;28;01mdef\u001b[39;00m\u001b[38;5;250m \u001b[39m\u001b[34mrandom_seed\u001b[39m(seeds: \u001b[38;5;28mint\u001b[39m | typing.ArrayLike, impl: PRNGImpl) -> PRNGKeyArray:\n\u001b[32m    544\u001b[39m   \u001b[38;5;66;03m# Avoid overflow error in X32 mode by first converting ints to int64.\u001b[39;00m\n\u001b[32m    545\u001b[39m   \u001b[38;5;66;03m# This breaks JIT invariance for large ints, but supports the common\u001b[39;00m\n\u001b[32m    546\u001b[39m   \u001b[38;5;66;03m# use-case of instantiating with Python hashes in X32 mode.\u001b[39;00m\n\u001b[32m    547\u001b[39m   \u001b[38;5;28;01mif\u001b[39;00m \u001b[38;5;28misinstance\u001b[39m(seeds, \u001b[38;5;28mint\u001b[39m):\n\u001b[32m--> \u001b[39m\u001b[32m548\u001b[39m     seeds_arr = \u001b[43mjnp\u001b[49m\u001b[43m.\u001b[49m\u001b[43masarray\u001b[49m\u001b[43m(\u001b[49m\u001b[43mnp\u001b[49m\u001b[43m.\u001b[49m\u001b[43mint64\u001b[49m\u001b[43m(\u001b[49m\u001b[43mseeds\u001b[49m\u001b[43m)\u001b[49m\u001b[43m)\u001b[49m\n\u001b[32m    549\u001b[39m   \u001b[38;5;28;01melse\u001b[39;00m:\n\u001b[32m    550\u001b[39m     seeds_arr = jnp.asarray(seeds)\n",
      "\u001b[36mFile \u001b[39m\u001b[32m~/.pyenv/versions/3.12.0/envs/qutip-tutorials/lib/python3.12/site-packages/jax/_src/numpy/lax_numpy.py:5714\u001b[39m, in \u001b[36masarray\u001b[39m\u001b[34m(a, dtype, order, copy, device)\u001b[39m\n\u001b[32m   5712\u001b[39m \u001b[38;5;28;01mif\u001b[39;00m dtype \u001b[38;5;129;01mis\u001b[39;00m \u001b[38;5;129;01mnot\u001b[39;00m \u001b[38;5;28;01mNone\u001b[39;00m:\n\u001b[32m   5713\u001b[39m   dtype = dtypes.canonicalize_dtype(dtype, allow_extended_dtype=\u001b[38;5;28;01mTrue\u001b[39;00m)  \u001b[38;5;66;03m# type: ignore[assignment]\u001b[39;00m\n\u001b[32m-> \u001b[39m\u001b[32m5714\u001b[39m \u001b[38;5;28;01mreturn\u001b[39;00m \u001b[43marray\u001b[49m\u001b[43m(\u001b[49m\u001b[43ma\u001b[49m\u001b[43m,\u001b[49m\u001b[43m \u001b[49m\u001b[43mdtype\u001b[49m\u001b[43m=\u001b[49m\u001b[43mdtype\u001b[49m\u001b[43m,\u001b[49m\u001b[43m \u001b[49m\u001b[43mcopy\u001b[49m\u001b[43m=\u001b[49m\u001b[38;5;28;43mbool\u001b[39;49m\u001b[43m(\u001b[49m\u001b[43mcopy\u001b[49m\u001b[43m)\u001b[49m\u001b[43m,\u001b[49m\u001b[43m \u001b[49m\u001b[43morder\u001b[49m\u001b[43m=\u001b[49m\u001b[43morder\u001b[49m\u001b[43m,\u001b[49m\u001b[43m \u001b[49m\u001b[43mdevice\u001b[49m\u001b[43m=\u001b[49m\u001b[43mdevice\u001b[49m\u001b[43m)\u001b[49m\n",
      "\u001b[36mFile \u001b[39m\u001b[32m~/.pyenv/versions/3.12.0/envs/qutip-tutorials/lib/python3.12/site-packages/jax/_src/numpy/lax_numpy.py:5548\u001b[39m, in \u001b[36marray\u001b[39m\u001b[34m(object, dtype, copy, order, ndmin, device)\u001b[39m\n\u001b[32m   5546\u001b[39m \u001b[38;5;28;01melse\u001b[39;00m:\n\u001b[32m   5547\u001b[39m   \u001b[38;5;28;01mraise\u001b[39;00m \u001b[38;5;167;01mTypeError\u001b[39;00m(\u001b[33mf\u001b[39m\u001b[33m\"\u001b[39m\u001b[33mUnexpected input type for array: \u001b[39m\u001b[38;5;132;01m{\u001b[39;00m\u001b[38;5;28mtype\u001b[39m(\u001b[38;5;28mobject\u001b[39m)\u001b[38;5;132;01m}\u001b[39;00m\u001b[33m\"\u001b[39m)\n\u001b[32m-> \u001b[39m\u001b[32m5548\u001b[39m out_array: Array = \u001b[43mlax_internal\u001b[49m\u001b[43m.\u001b[49m\u001b[43m_convert_element_type\u001b[49m\u001b[43m(\u001b[49m\n\u001b[32m   5549\u001b[39m \u001b[43m    \u001b[49m\u001b[43mout\u001b[49m\u001b[43m,\u001b[49m\u001b[43m \u001b[49m\u001b[43mdtype\u001b[49m\u001b[43m,\u001b[49m\u001b[43m \u001b[49m\u001b[43mweak_type\u001b[49m\u001b[43m=\u001b[49m\u001b[43mweak_type\u001b[49m\u001b[43m,\u001b[49m\u001b[43m \u001b[49m\u001b[43msharding\u001b[49m\u001b[43m=\u001b[49m\u001b[43msharding\u001b[49m\u001b[43m)\u001b[49m\n\u001b[32m   5550\u001b[39m \u001b[38;5;28;01mif\u001b[39;00m ndmin > np.ndim(out_array):\n\u001b[32m   5551\u001b[39m   out_array = lax.expand_dims(out_array, \u001b[38;5;28mrange\u001b[39m(ndmin - np.ndim(out_array)))\n",
      "\u001b[36mFile \u001b[39m\u001b[32m~/.pyenv/versions/3.12.0/envs/qutip-tutorials/lib/python3.12/site-packages/jax/_src/lax/lax.py:1727\u001b[39m, in \u001b[36m_convert_element_type\u001b[39m\u001b[34m(operand, new_dtype, weak_type, sharding, warn_on_complex_to_real_cast)\u001b[39m\n\u001b[32m   1725\u001b[39m   \u001b[38;5;28;01mreturn\u001b[39;00m operand\n\u001b[32m   1726\u001b[39m \u001b[38;5;28;01melse\u001b[39;00m:\n\u001b[32m-> \u001b[39m\u001b[32m1727\u001b[39m   \u001b[38;5;28;01mreturn\u001b[39;00m \u001b[43mconvert_element_type_p\u001b[49m\u001b[43m.\u001b[49m\u001b[43mbind\u001b[49m\u001b[43m(\u001b[49m\n\u001b[32m   1728\u001b[39m \u001b[43m      \u001b[49m\u001b[43moperand\u001b[49m\u001b[43m,\u001b[49m\u001b[43m \u001b[49m\u001b[43mnew_dtype\u001b[49m\u001b[43m=\u001b[49m\u001b[43mnew_dtype\u001b[49m\u001b[43m,\u001b[49m\u001b[43m \u001b[49m\u001b[43mweak_type\u001b[49m\u001b[43m=\u001b[49m\u001b[38;5;28;43mbool\u001b[39;49m\u001b[43m(\u001b[49m\u001b[43mweak_type\u001b[49m\u001b[43m)\u001b[49m\u001b[43m,\u001b[49m\n\u001b[32m   1729\u001b[39m \u001b[43m      \u001b[49m\u001b[43msharding\u001b[49m\u001b[43m=\u001b[49m\u001b[43msharding\u001b[49m\u001b[43m)\u001b[49m\n",
      "\u001b[36mFile \u001b[39m\u001b[32m~/.pyenv/versions/3.12.0/envs/qutip-tutorials/lib/python3.12/site-packages/jax/_src/core.py:496\u001b[39m, in \u001b[36mPrimitive.bind\u001b[39m\u001b[34m(self, *args, **params)\u001b[39m\n\u001b[32m    494\u001b[39m \u001b[38;5;28;01mdef\u001b[39;00m\u001b[38;5;250m \u001b[39m\u001b[34mbind\u001b[39m(\u001b[38;5;28mself\u001b[39m, *args, **params):\n\u001b[32m    495\u001b[39m   args = args \u001b[38;5;28;01mif\u001b[39;00m \u001b[38;5;28mself\u001b[39m.skip_canonicalization \u001b[38;5;28;01melse\u001b[39;00m \u001b[38;5;28mmap\u001b[39m(canonicalize_value, args)\n\u001b[32m--> \u001b[39m\u001b[32m496\u001b[39m   \u001b[38;5;28;01mreturn\u001b[39;00m \u001b[38;5;28;43mself\u001b[39;49m\u001b[43m.\u001b[49m\u001b[43m_true_bind\u001b[49m\u001b[43m(\u001b[49m\u001b[43m*\u001b[49m\u001b[43margs\u001b[49m\u001b[43m,\u001b[49m\u001b[43m \u001b[49m\u001b[43m*\u001b[49m\u001b[43m*\u001b[49m\u001b[43mparams\u001b[49m\u001b[43m)\u001b[49m\n",
      "\u001b[36mFile \u001b[39m\u001b[32m~/.pyenv/versions/3.12.0/envs/qutip-tutorials/lib/python3.12/site-packages/jax/_src/core.py:512\u001b[39m, in \u001b[36mPrimitive._true_bind\u001b[39m\u001b[34m(self, *args, **params)\u001b[39m\n\u001b[32m    510\u001b[39m trace_ctx.set_trace(eval_trace)\n\u001b[32m    511\u001b[39m \u001b[38;5;28;01mtry\u001b[39;00m:\n\u001b[32m--> \u001b[39m\u001b[32m512\u001b[39m   \u001b[38;5;28;01mreturn\u001b[39;00m \u001b[38;5;28;43mself\u001b[39;49m\u001b[43m.\u001b[49m\u001b[43mbind_with_trace\u001b[49m\u001b[43m(\u001b[49m\u001b[43mprev_trace\u001b[49m\u001b[43m,\u001b[49m\u001b[43m \u001b[49m\u001b[43margs\u001b[49m\u001b[43m,\u001b[49m\u001b[43m \u001b[49m\u001b[43mparams\u001b[49m\u001b[43m)\u001b[49m\n\u001b[32m    513\u001b[39m \u001b[38;5;28;01mfinally\u001b[39;00m:\n\u001b[32m    514\u001b[39m   trace_ctx.set_trace(prev_trace)\n",
      "\u001b[36mFile \u001b[39m\u001b[32m~/.pyenv/versions/3.12.0/envs/qutip-tutorials/lib/python3.12/site-packages/jax/_src/lax/lax.py:4875\u001b[39m, in \u001b[36m_convert_element_type_bind_with_trace\u001b[39m\u001b[34m(trace, args, params)\u001b[39m\n\u001b[32m   4873\u001b[39m \u001b[38;5;28;01mdef\u001b[39;00m\u001b[38;5;250m \u001b[39m\u001b[34m_convert_element_type_bind_with_trace\u001b[39m(trace, args, params):\n\u001b[32m   4874\u001b[39m   sharding = params[\u001b[33m'\u001b[39m\u001b[33msharding\u001b[39m\u001b[33m'\u001b[39m]\n\u001b[32m-> \u001b[39m\u001b[32m4875\u001b[39m   operand = \u001b[43mcore\u001b[49m\u001b[43m.\u001b[49m\u001b[43mPrimitive\u001b[49m\u001b[43m.\u001b[49m\u001b[43mbind_with_trace\u001b[49m\u001b[43m(\u001b[49m\u001b[43mconvert_element_type_p\u001b[49m\u001b[43m,\u001b[49m\u001b[43m \u001b[49m\u001b[43mtrace\u001b[49m\u001b[43m,\u001b[49m\u001b[43m \u001b[49m\u001b[43margs\u001b[49m\u001b[43m,\u001b[49m\u001b[43m \u001b[49m\u001b[43mparams\u001b[49m\u001b[43m)\u001b[49m\n\u001b[32m   4876\u001b[39m   \u001b[38;5;28;01mif\u001b[39;00m sharding \u001b[38;5;129;01mis\u001b[39;00m \u001b[38;5;129;01mnot\u001b[39;00m \u001b[38;5;28;01mNone\u001b[39;00m \u001b[38;5;129;01mand\u001b[39;00m sharding._is_concrete:\n\u001b[32m   4877\u001b[39m     \u001b[38;5;28;01mwith\u001b[39;00m core.set_current_trace(trace):\n",
      "\u001b[36mFile \u001b[39m\u001b[32m~/.pyenv/versions/3.12.0/envs/qutip-tutorials/lib/python3.12/site-packages/jax/_src/core.py:517\u001b[39m, in \u001b[36mPrimitive.bind_with_trace\u001b[39m\u001b[34m(self, trace, args, params)\u001b[39m\n\u001b[32m    516\u001b[39m \u001b[38;5;28;01mdef\u001b[39;00m\u001b[38;5;250m \u001b[39m\u001b[34mbind_with_trace\u001b[39m(\u001b[38;5;28mself\u001b[39m, trace, args, params):\n\u001b[32m--> \u001b[39m\u001b[32m517\u001b[39m   \u001b[38;5;28;01mreturn\u001b[39;00m \u001b[43mtrace\u001b[49m\u001b[43m.\u001b[49m\u001b[43mprocess_primitive\u001b[49m\u001b[43m(\u001b[49m\u001b[38;5;28;43mself\u001b[39;49m\u001b[43m,\u001b[49m\u001b[43m \u001b[49m\u001b[43margs\u001b[49m\u001b[43m,\u001b[49m\u001b[43m \u001b[49m\u001b[43mparams\u001b[49m\u001b[43m)\u001b[49m\n",
      "\u001b[36mFile \u001b[39m\u001b[32m~/.pyenv/versions/3.12.0/envs/qutip-tutorials/lib/python3.12/site-packages/jax/_src/core.py:1017\u001b[39m, in \u001b[36mEvalTrace.process_primitive\u001b[39m\u001b[34m(self, primitive, args, params)\u001b[39m\n\u001b[32m   1015\u001b[39m args = \u001b[38;5;28mmap\u001b[39m(full_lower, args)\n\u001b[32m   1016\u001b[39m check_eval_args(args)\n\u001b[32m-> \u001b[39m\u001b[32m1017\u001b[39m \u001b[38;5;28;01mreturn\u001b[39;00m \u001b[43mprimitive\u001b[49m\u001b[43m.\u001b[49m\u001b[43mimpl\u001b[49m\u001b[43m(\u001b[49m\u001b[43m*\u001b[49m\u001b[43margs\u001b[49m\u001b[43m,\u001b[49m\u001b[43m \u001b[49m\u001b[43m*\u001b[49m\u001b[43m*\u001b[49m\u001b[43mparams\u001b[49m\u001b[43m)\u001b[49m\n",
      "\u001b[36mFile \u001b[39m\u001b[32m~/.pyenv/versions/3.12.0/envs/qutip-tutorials/lib/python3.12/site-packages/jax/_src/dispatch.py:89\u001b[39m, in \u001b[36mapply_primitive\u001b[39m\u001b[34m(prim, *args, **params)\u001b[39m\n\u001b[32m     87\u001b[39m prev = lib.jax_jit.swap_thread_local_state_disable_jit(\u001b[38;5;28;01mFalse\u001b[39;00m)\n\u001b[32m     88\u001b[39m \u001b[38;5;28;01mtry\u001b[39;00m:\n\u001b[32m---> \u001b[39m\u001b[32m89\u001b[39m   outs = \u001b[43mfun\u001b[49m\u001b[43m(\u001b[49m\u001b[43m*\u001b[49m\u001b[43margs\u001b[49m\u001b[43m)\u001b[49m\n\u001b[32m     90\u001b[39m \u001b[38;5;28;01mfinally\u001b[39;00m:\n\u001b[32m     91\u001b[39m   lib.jax_jit.swap_thread_local_state_disable_jit(prev)\n",
      "    \u001b[31m[... skipping hidden 13 frame]\u001b[39m\n",
      "\u001b[36mFile \u001b[39m\u001b[32m~/.pyenv/versions/3.12.0/envs/qutip-tutorials/lib/python3.12/site-packages/jax/_src/xla_bridge.py:873\u001b[39m, in \u001b[36mbackends\u001b[39m\u001b[34m()\u001b[39m\n\u001b[32m    871\u001b[39m       \u001b[38;5;28;01melse\u001b[39;00m:\n\u001b[32m    872\u001b[39m         err_msg += \u001b[33m\"\u001b[39m\u001b[33m (you may need to uninstall the failing plugin package, or set JAX_PLATFORMS=cpu to skip this backend.)\u001b[39m\u001b[33m\"\u001b[39m\n\u001b[32m--> \u001b[39m\u001b[32m873\u001b[39m       \u001b[38;5;28;01mraise\u001b[39;00m \u001b[38;5;167;01mRuntimeError\u001b[39;00m(err_msg)\n\u001b[32m    875\u001b[39m \u001b[38;5;28;01massert\u001b[39;00m _default_backend \u001b[38;5;129;01mis\u001b[39;00m \u001b[38;5;129;01mnot\u001b[39;00m \u001b[38;5;28;01mNone\u001b[39;00m\n\u001b[32m    876\u001b[39m \u001b[38;5;28;01mif\u001b[39;00m \u001b[38;5;129;01mnot\u001b[39;00m config.jax_platforms.value:\n",
      "\u001b[31mRuntimeError\u001b[39m: Unable to initialize backend 'cuda': INTERNAL: no supported devices found for platform CUDA (you may need to uninstall the failing plugin package, or set JAX_PLATFORMS=cpu to skip this backend.)"
     ]
    }
   ],
   "source": [
    "from jax import random\n",
    "key = random.key(42)\n",
    "key2 = random.key(84)"
   ]
  },
  {
   "cell_type": "code",
   "execution_count": null,
   "id": "060e9404",
   "metadata": {},
   "outputs": [],
   "source": [
    "@jax.jit\n",
    "def polynomial_coeffs(t, a):\n",
    "    return jnp.array([a, (a**2), (-a)**3, 0, (5*a*t**5 - 1.2*a*1j*t**2 - 1), 0, 0, a**2-a, 0, (a*t**3 + a*t**2 - 2), 0, 5*a-1, t**2, 0, -t])\n",
    "\n",
    "@jax.jit\n",
    "def compute_roots_for_single_a(a, ts):\n",
    "    def roots_for_single_t(t):\n",
    "        coeffs = polynomial_coeffs(t, a)\n",
    "        return jnp.roots(coeffs, strip_zeros=False)\n",
    "    \n",
    "    return jax.vmap(roots_for_single_t)(ts)\n",
    "\n",
    "@jax.jit\n",
    "def polynomial(ts, as_):\n",
    "    return jnp.nan_to_num(jax.vmap(lambda a: compute_roots_for_single_a(a, ts))(as_))"
   ]
  },
  {
   "cell_type": "code",
   "execution_count": null,
   "id": "2b14b933",
   "metadata": {},
   "outputs": [],
   "source": [
    "import numpy as np\n",
    "result=[]\n",
    "j=0.5\n",
    "while j<2:\n",
    "    x=random.uniform(key, shape=(5000,))\n",
    "    y=random.uniform(key2, shape=(5000,))\n",
    "    a=jnp.linspace(-1+j,-0.9+j,25)\n",
    "    z=x+1j*y\n",
    "    j+=0.1\n",
    "    one=polynomial(z,a)\n",
    "    result.append(np.array(one))\n",
    "    print(j)\n",
    "answer=np.concatenate(result,axis=0)\n"
   ]
  },
  {
   "cell_type": "markdown",
   "id": "1eee6073",
   "metadata": {},
   "source": [
    "The plot is nice, I want to include more points and make the visualization nicer, in a similar way to the tweet"
   ]
  },
  {
   "cell_type": "code",
   "execution_count": null,
   "id": "b64a5116",
   "metadata": {},
   "outputs": [],
   "source": [
    "from matplotlib.animation import FuncAnimation\n",
    "import matplotlib.pyplot as plt\n",
    "# Assuming 'one' is your array of roots from the polynomial function\n",
    "# If it's not defined, you'll need to calculate it using your polynomial function\n",
    "\n",
    "fig, ax = plt.subplots(figsize=(8, 8))\n",
    "scatter = ax.scatter([], [], s=0.0005, cmap='viridis')\n",
    "\n",
    "# Set the axis limits (adjust these based on your data)\n",
    "#ax.set_xlim(jnp.real(one).min() - 0.1, jnp.real(one).max() + 0.1)\n",
    "#ax.set_ylim(jnp.imag(one).min() - 0.1, jnp.imag(one).max() + 0.1)\n",
    "al=2.4\n",
    "b=2\n",
    "ax.set_xlim(-al - 0.01*al, al + 0.01*al)\n",
    "ax.set_ylim(-b- 0.01*b, b + 0.01*b)\n",
    "ax.spines['top'].set_visible(False)\n",
    "ax.spines['right'].set_visible(False)\n",
    "ax.spines['left'].set_visible(False)\n",
    "ax.spines['bottom'].set_visible(False)\n",
    "ax.xaxis.set_ticks([])\n",
    "ax.yaxis.set_ticks([])\n",
    "fig.patch.set_facecolor('beige')  # Figure background color\n",
    "ax.set_facecolor('beige')       # Axes background color\n",
    "plt.subplots_adjust(left=0, right=1, top=1, bottom=0)\n",
    "\n",
    "def animate(frame):\n",
    "    one2 = np.array(answer[frame]).flatten()  # Replace np with jnp if needed\n",
    "    real_vals = np.real(one2)\n",
    "    imag_vals = np.imag(one2)\n",
    "    \n",
    "    # Compute the absolute values for coloring\n",
    "    colors = np.abs(one2)\n",
    "\n",
    "    # Update scatter plot with new points and colors\n",
    "    scatter.set_offsets(np.column_stack((real_vals, imag_vals)))\n",
    "    scatter.set_array(colors)  # Set the color array to map to point absolute values\n",
    "    \n",
    "    return scatter,\n",
    "anim = FuncAnimation(fig, animate, frames=len(answer), interval=5, blit=True)\n",
    "\n",
    "# Uncomment the next line to save the animation\n",
    "anim.save('polynomial_roots.gif', writer='pillow', fps=50)\n",
    "\n",
    "plt.show()"
   ]
  },
  {
   "cell_type": "code",
   "execution_count": null,
   "id": "9d0bfafa",
   "metadata": {
    "lines_to_next_cell": 2
   },
   "outputs": [],
   "source": [
    "from IPython.display import Image\n",
    "Image(open('polynomial_roots.gif','rb').read())\n"
   ]
  },
  {
   "cell_type": "markdown",
   "id": "79ea02d3",
   "metadata": {},
   "source": [
    "![](polynomial_roots.gif)"
   ]
  },
  {
   "cell_type": "markdown",
   "id": "4923ca64",
   "metadata": {},
   "source": [
    "TODO:\n",
    "\n",
    "- Make animation prettier perhaps with manim\n",
    "- Use the polynomial from the tweets or something prettier\n",
    "- Make another file with some fractal\n",
    "- Refactor the polynomial code so you get some jax practice"
   ]
  },
  {
   "cell_type": "code",
   "execution_count": null,
   "id": "72d99556",
   "metadata": {},
   "outputs": [],
   "source": []
  },
  {
   "cell_type": "code",
   "execution_count": null,
   "id": "ec49a256",
   "metadata": {},
   "outputs": [],
   "source": []
  }
 ],
 "metadata": {
  "kernelspec": {
   "display_name": "qutip-tutorials",
   "language": "python",
   "name": "python3"
  },
  "language_info": {
   "codemirror_mode": {
    "name": "ipython",
    "version": 3
   },
   "file_extension": ".py",
   "mimetype": "text/x-python",
   "name": "python",
   "nbconvert_exporter": "python",
   "pygments_lexer": "ipython3",
   "version": "3.12.0"
  }
 },
 "nbformat": 4,
 "nbformat_minor": 5
}
